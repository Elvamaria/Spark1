{
 "cells": [
  {
   "cell_type": "code",
   "execution_count": 0,
   "metadata": {
    "application/vnd.databricks.v1+cell": {
     "cellMetadata": {},
     "inputWidgets": {},
     "nuid": "93a9fb4f-0caf-4dad-8bb7-ffda4b7dd09f",
     "showTitle": false,
     "title": ""
    },
    "id": "umt9bjkdc2Xu"
   },
   "outputs": [],
   "source": [
    "from pyspark.sql import SparkSession"
   ]
  },
  {
   "cell_type": "code",
   "execution_count": 0,
   "metadata": {
    "application/vnd.databricks.v1+cell": {
     "cellMetadata": {},
     "inputWidgets": {},
     "nuid": "a8fe9299-0732-4180-a7d8-6e1115372e63",
     "showTitle": false,
     "title": ""
    },
    "id": "y2IVbbKBd5L0"
   },
   "outputs": [],
   "source": [
    "spark = SparkSession.builder.appName(\"hive + Jupiter\").enableHiveSupport().getOrCreate()"
   ]
  },
  {
   "cell_type": "code",
   "execution_count": 0,
   "metadata": {
    "application/vnd.databricks.v1+cell": {
     "cellMetadata": {},
     "inputWidgets": {},
     "nuid": "1a7310bf-c79d-44be-8005-086a1b92acc8",
     "showTitle": false,
     "title": ""
    },
    "colab": {
     "base_uri": "https://localhost:8080/"
    },
    "id": "N4kEZVFreAhg",
    "outputId": "dba48e2f-558f-4e99-80f6-a5d1d47e9a24"
   },
   "outputs": [],
   "source": [
    "spark.sql(\"show databases\").show()"
   ]
  },
  {
   "cell_type": "code",
   "execution_count": 0,
   "metadata": {
    "application/vnd.databricks.v1+cell": {
     "cellMetadata": {},
     "inputWidgets": {},
     "nuid": "91a59b84-1679-4098-9a6c-ae9033dd06df",
     "showTitle": false,
     "title": ""
    },
    "colab": {
     "base_uri": "https://localhost:8080/"
    },
    "id": "ZWjcPmmDeHi_",
    "outputId": "dfafaa08-df39-4e9c-f40a-43247a439299"
   },
   "outputs": [],
   "source": [
    "spark.sql(\"use default\").show()"
   ]
  },
  {
   "cell_type": "code",
   "execution_count": 0,
   "metadata": {
    "application/vnd.databricks.v1+cell": {
     "cellMetadata": {},
     "inputWidgets": {},
     "nuid": "6dea8035-64df-4589-971c-a4656152cf34",
     "showTitle": false,
     "title": ""
    },
    "colab": {
     "base_uri": "https://localhost:8080/"
    },
    "id": "LSe2arT8eJtu",
    "outputId": "7a194f33-2359-4100-d343-9b42e2e6e97d"
   },
   "outputs": [],
   "source": [
    "spark.sql(\"show tables\").show()"
   ]
  },
  {
   "cell_type": "code",
   "execution_count": 0,
   "metadata": {
    "application/vnd.databricks.v1+cell": {
     "cellMetadata": {},
     "inputWidgets": {},
     "nuid": "d1b9f303-fe6e-4854-b7a5-044b774692e6",
     "showTitle": false,
     "title": ""
    },
    "colab": {
     "base_uri": "https://localhost:8080/"
    },
    "id": "5ekEp_iaeSJ6",
    "outputId": "7aced70a-e085-49c0-da34-200b26bc788e"
   },
   "outputs": [],
   "source": [
    "spark.sql(\"create database DatoPoblacion\")"
   ]
  },
  {
   "cell_type": "code",
   "execution_count": 0,
   "metadata": {
    "application/vnd.databricks.v1+cell": {
     "cellMetadata": {},
     "inputWidgets": {},
     "nuid": "f09af24c-1633-46a3-9f1d-5e84c55a90b1",
     "showTitle": false,
     "title": ""
    },
    "colab": {
     "base_uri": "https://localhost:8080/"
    },
    "id": "t9P0UWqZebAc",
    "outputId": "c82df73f-64fb-49a9-cbb6-d72bd6f2506a"
   },
   "outputs": [],
   "source": [
    "spark.sql(\"use DatoPoblacion\")"
   ]
  },
  {
   "cell_type": "code",
   "execution_count": 0,
   "metadata": {
    "application/vnd.databricks.v1+cell": {
     "cellMetadata": {},
     "inputWidgets": {},
     "nuid": "a4a1fe6a-8b12-4dd6-a35c-96782a195103",
     "showTitle": false,
     "title": ""
    },
    "colab": {
     "base_uri": "https://localhost:8080/"
    },
    "id": "8PMyP5eZehWE",
    "outputId": "6d3264b4-1c2a-4101-dcb5-2aef20f0ca46"
   },
   "outputs": [],
   "source": [
    "spark.sql(\"create table Datos \\\n",
    "          (Etiqueta_fila string, hombres2012 int,mujeres2012 int, hombres2013 int,mujeres2013 int,hombres2014 int,mujeres2014 int,hombres2015 int, mujeres2015 int, hombres2016 int,mujeres2016 int,hombres2017 int, mujeres2017 int, hombres2018 int, mujeres2018 int) \\\n",
    "          row format delimited fields terminated by ',' \\\n",
    "          stored as textfile \")"
   ]
  },
  {
   "cell_type": "code",
   "execution_count": 0,
   "metadata": {
    "application/vnd.databricks.v1+cell": {
     "cellMetadata": {},
     "inputWidgets": {},
     "nuid": "a4ebcf3b-017f-447f-bd7d-ad09d38cf9e7",
     "showTitle": false,
     "title": ""
    },
    "colab": {
     "base_uri": "https://localhost:8080/"
    },
    "id": "-EwhSpKgftAo",
    "outputId": "b3431fcc-e2dc-43d9-ba10-a3578780e18e"
   },
   "outputs": [],
   "source": [
    "spark.sql(\"show tables\").show()"
   ]
  },
  {
   "cell_type": "code",
   "execution_count": 0,
   "metadata": {
    "application/vnd.databricks.v1+cell": {
     "cellMetadata": {},
     "inputWidgets": {},
     "nuid": "a2e65351-fbc5-4167-b47f-9ed51fbe1c06",
     "showTitle": false,
     "title": ""
    },
    "colab": {
     "base_uri": "https://localhost:8080/"
    },
    "id": "fXJ3jP0Vfxwu",
    "outputId": "2e1e98b4-436f-4879-ddea-eecf24dbb521"
   },
   "outputs": [],
   "source": [
    "spark.sql(\"select * from Datos\").show()"
   ]
  },
  {
   "cell_type": "code",
   "execution_count": 0,
   "metadata": {
    "application/vnd.databricks.v1+cell": {
     "cellMetadata": {},
     "inputWidgets": {},
     "nuid": "566f558c-8714-4778-b771-d1a7508196ab",
     "showTitle": false,
     "title": ""
    },
    "colab": {
     "base_uri": "https://localhost:8080/"
    },
    "id": "cgIY9AkScqp8",
    "outputId": "ce7a56c7-beee-4506-ec99-c88f5c22dd1e"
   },
   "outputs": [],
   "source": [
    "spark.sql(\"load data local inpath 'DatoPoblacion.csv' overwrite into table Datos\")\n"
   ]
  },
  {
   "cell_type": "code",
   "execution_count": 0,
   "metadata": {
    "application/vnd.databricks.v1+cell": {
     "cellMetadata": {},
     "inputWidgets": {},
     "nuid": "a3de8126-376b-4a36-8af3-90da35dddac8",
     "showTitle": false,
     "title": ""
    },
    "colab": {
     "base_uri": "https://localhost:8080/"
    },
    "id": "e23167a8",
    "outputId": "8522c9d2-c6b0-4dd0-a531-8b05b4dd7892"
   },
   "outputs": [],
   "source": [
    "spark.sql(\"select * from Datos\").show(17)"
   ]
  },
  {
   "cell_type": "code",
   "execution_count": 0,
   "metadata": {
    "application/vnd.databricks.v1+cell": {
     "cellMetadata": {},
     "inputWidgets": {},
     "nuid": "bae47284-3595-4fa0-a1cf-8ef6930e6b74",
     "showTitle": false,
     "title": ""
    },
    "id": "yUVQnOmmgHtV"
   },
   "outputs": [],
   "source": []
  }
 ],
 "metadata": {
  "application/vnd.databricks.v1+notebook": {
   "dashboards": [],
   "language": "python",
   "notebookMetadata": {
    "pythonIndentUnit": 4
   },
   "notebookName": "Extraible_3_DeAnalisisExploratorioDeDatos (1)",
   "widgets": {}
  },
  "colab": {
   "provenance": []
  },
  "kernelspec": {
   "display_name": "Python 3 (ipykernel)",
   "language": "python",
   "name": "python3"
  },
  "language_info": {
   "codemirror_mode": {
    "name": "ipython",
    "version": 3
   },
   "file_extension": ".py",
   "mimetype": "text/x-python",
   "name": "python",
   "nbconvert_exporter": "python",
   "pygments_lexer": "ipython3",
   "version": "3.10.9"
  }
 },
 "nbformat": 4,
 "nbformat_minor": 0
}
