{
 "cells": [
  {
   "cell_type": "code",
   "execution_count": 0,
   "metadata": {
    "application/vnd.databricks.v1+cell": {
     "cellMetadata": {},
     "inputWidgets": {},
     "nuid": "581258ca-6e3e-436f-9190-4fef63058446",
     "showTitle": false,
     "title": ""
    }
   },
   "outputs": [],
   "source": [
    "import findspark\n",
    "findspark.init()"
   ]
  },
  {
   "cell_type": "code",
   "execution_count": 0,
   "metadata": {
    "application/vnd.databricks.v1+cell": {
     "cellMetadata": {},
     "inputWidgets": {},
     "nuid": "57c0df0b-d0a8-4c6b-b6bf-34e4cde1195d",
     "showTitle": false,
     "title": ""
    }
   },
   "outputs": [],
   "source": [
    "from pyspark.sql import SparkSession"
   ]
  },
  {
   "cell_type": "code",
   "execution_count": 0,
   "metadata": {
    "application/vnd.databricks.v1+cell": {
     "cellMetadata": {},
     "inputWidgets": {},
     "nuid": "ace28a78-d8f0-4b7c-b3cc-556b29272d5b",
     "showTitle": false,
     "title": ""
    }
   },
   "outputs": [],
   "source": [
    "spark = SparkSession.builder.appName(\"hive + Jupiter\").enableHiveSupport().getOrCreate()"
   ]
  },
  {
   "cell_type": "code",
   "execution_count": 0,
   "metadata": {
    "application/vnd.databricks.v1+cell": {
     "cellMetadata": {},
     "inputWidgets": {},
     "nuid": "5c7b664b-d956-42b8-a4a5-00a80b9405b7",
     "showTitle": false,
     "title": ""
    }
   },
   "outputs": [],
   "source": [
    "spark.sql(\"show databases\").show()"
   ]
  },
  {
   "cell_type": "code",
   "execution_count": 0,
   "metadata": {
    "application/vnd.databricks.v1+cell": {
     "cellMetadata": {},
     "inputWidgets": {},
     "nuid": "e0e963ba-fdbc-4387-9837-46f72be2da0b",
     "showTitle": false,
     "title": ""
    }
   },
   "outputs": [],
   "source": [
    "spark.sql(\"use default\").show()"
   ]
  },
  {
   "cell_type": "code",
   "execution_count": 0,
   "metadata": {
    "application/vnd.databricks.v1+cell": {
     "cellMetadata": {},
     "inputWidgets": {},
     "nuid": "563cc7c4-29b3-4d49-a39a-22d0da275c0b",
     "showTitle": false,
     "title": ""
    }
   },
   "outputs": [],
   "source": [
    "spark.sql(\"show tables\").show()"
   ]
  },
  {
   "cell_type": "markdown",
   "metadata": {
    "application/vnd.databricks.v1+cell": {
     "cellMetadata": {},
     "inputWidgets": {},
     "nuid": "89de9d8c-8c52-41b1-a89b-0050274d6388",
     "showTitle": false,
     "title": ""
    }
   },
   "source": [
    "##  Crear una tabla\n",
    "\n",
    "En este punto tiene que haber importando el archivo athlete_events.csv al hdfs ruta: /user/curso\n",
    "\n",
    "Se procede a crear una tabla\n"
   ]
  },
  {
   "cell_type": "code",
   "execution_count": 0,
   "metadata": {
    "application/vnd.databricks.v1+cell": {
     "cellMetadata": {},
     "inputWidgets": {},
     "nuid": "51ad9079-1d0e-4353-842e-9cef1dae5a9c",
     "showTitle": false,
     "title": ""
    }
   },
   "outputs": [],
   "source": [
    "spark.sql(\"create database prueba_olimpica\")"
   ]
  },
  {
   "cell_type": "code",
   "execution_count": 0,
   "metadata": {
    "application/vnd.databricks.v1+cell": {
     "cellMetadata": {},
     "inputWidgets": {},
     "nuid": "78007ee4-4c5e-4e3c-b681-414799f239a9",
     "showTitle": false,
     "title": ""
    }
   },
   "outputs": [],
   "source": [
    "spark.sql(\"show databases\").show()"
   ]
  },
  {
   "cell_type": "code",
   "execution_count": 0,
   "metadata": {
    "application/vnd.databricks.v1+cell": {
     "cellMetadata": {},
     "inputWidgets": {},
     "nuid": "4c602760-ed4e-413d-9d40-68cb0d2501fe",
     "showTitle": false,
     "title": ""
    }
   },
   "outputs": [],
   "source": [
    "spark.sql(\"use prueba_olimpica\")"
   ]
  },
  {
   "cell_type": "code",
   "execution_count": 0,
   "metadata": {
    "application/vnd.databricks.v1+cell": {
     "cellMetadata": {},
     "inputWidgets": {},
     "nuid": "1fb57591-fe68-48f1-b38f-c79badcea0a0",
     "showTitle": false,
     "title": ""
    }
   },
   "outputs": [],
   "source": [
    "spark.sql(\"create table deportes \\\n",
    "          (ID int,Name string,Sex string,Age int,Height int,Weight int ,Team string, NOC string, Games string,Year int,Season string, City string, Sport string, Event string, Medal string) \\\n",
    "          row format delimited fields terminated by ',' \\\n",
    "          stored as textfile \")\n",
    "          "
   ]
  },
  {
   "cell_type": "code",
   "execution_count": 0,
   "metadata": {
    "application/vnd.databricks.v1+cell": {
     "cellMetadata": {},
     "inputWidgets": {},
     "nuid": "06ff4f74-dcba-42e5-af00-ec4208f071b9",
     "showTitle": false,
     "title": ""
    }
   },
   "outputs": [],
   "source": [
    "spark.sql(\"show tables\").show()"
   ]
  },
  {
   "cell_type": "code",
   "execution_count": 0,
   "metadata": {
    "application/vnd.databricks.v1+cell": {
     "cellMetadata": {},
     "inputWidgets": {},
     "nuid": "d05b3a0d-a347-49ee-baa3-3f9d41db8e30",
     "showTitle": false,
     "title": ""
    }
   },
   "outputs": [],
   "source": [
    "# para borrar tablas\n",
    "# spark.sql(\"drop table deportes\")"
   ]
  },
  {
   "cell_type": "code",
   "execution_count": 0,
   "metadata": {
    "application/vnd.databricks.v1+cell": {
     "cellMetadata": {},
     "inputWidgets": {},
     "nuid": "be0daed5-1634-4035-99f6-1a3bcd63200d",
     "showTitle": false,
     "title": ""
    }
   },
   "outputs": [],
   "source": [
    "spark.sql(\"select * from deportes\").show()"
   ]
  },
  {
   "cell_type": "code",
   "execution_count": 0,
   "metadata": {
    "application/vnd.databricks.v1+cell": {
     "cellMetadata": {},
     "inputWidgets": {},
     "nuid": "2b1e116b-593c-48f6-b7b8-4e3002210032",
     "showTitle": false,
     "title": ""
    }
   },
   "outputs": [],
   "source": [
    "# al filesystem de hadoop\n",
    "# spark.sql(\"load data inpath '/user/curso/athlete_events.csv' overwrite into table deportes\")\n",
    "\n",
    "\n",
    "# Al filesystem local \n",
    "spark.sql(\"load data local inpath '/home/curso/datos/athlete_events.csv' overwrite into table deportes\")\n"
   ]
  },
  {
   "cell_type": "code",
   "execution_count": 0,
   "metadata": {
    "application/vnd.databricks.v1+cell": {
     "cellMetadata": {},
     "inputWidgets": {},
     "nuid": "b1a92cc6-6c90-4d87-b217-ed9c65be84ed",
     "showTitle": false,
     "title": ""
    }
   },
   "outputs": [],
   "source": [
    "spark.sql(\"select * from deportes\").show(10)"
   ]
  },
  {
   "cell_type": "markdown",
   "metadata": {
    "application/vnd.databricks.v1+cell": {
     "cellMetadata": {},
     "inputWidgets": {},
     "nuid": "31bd3cc4-809f-419e-9e6b-048e041fac7d",
     "showTitle": false,
     "title": ""
    }
   },
   "source": [
    "**ID**      identificador\n",
    "\n",
    "**Name**    nombre\n",
    "\n",
    "**Sex**     genero\n",
    "\n",
    "**Age**     edad\n",
    "\n",
    "**Height**  altura\n",
    "\n",
    "**Weight**  peso\n",
    "\n",
    "**Team**    equipo\n",
    "\n",
    "**NOC**     Pais\n",
    "\n",
    "**Games**   Juego olímpico\n",
    "\n",
    "**Year**    Año\n",
    "\n",
    "**Season**  estación del año\n",
    "\n",
    "**City**    ciudad\n",
    "\n",
    "**Sport**   deporte\n",
    "\n",
    "**Event**   evento\n",
    "\n",
    "**Medal**   medalla"
   ]
  },
  {
   "cell_type": "code",
   "execution_count": 0,
   "metadata": {
    "application/vnd.databricks.v1+cell": {
     "cellMetadata": {},
     "inputWidgets": {},
     "nuid": "7f7757bf-4b27-4844-b41d-26fed3fa3983",
     "showTitle": false,
     "title": ""
    }
   },
   "outputs": [],
   "source": [
    "spark.sql(\"select NOC, count(*) from deportes group by NOC order by count(*) desc\").show()"
   ]
  },
  {
   "cell_type": "markdown",
   "metadata": {
    "application/vnd.databricks.v1+cell": {
     "cellMetadata": {},
     "inputWidgets": {},
     "nuid": "dfb1d48d-cc6a-495f-8c26-8879a4eb164c",
     "showTitle": false,
     "title": ""
    }
   },
   "source": [
    "### 1\n",
    "\n",
    "Listar los nombres de jugadores hombres de los Estados unidos que juegan basketball y su edad es mayor a 28"
   ]
  },
  {
   "cell_type": "code",
   "execution_count": 0,
   "metadata": {
    "application/vnd.databricks.v1+cell": {
     "cellMetadata": {},
     "inputWidgets": {},
     "nuid": "9aa04f11-6465-4a87-995c-2956ca082aea",
     "showTitle": false,
     "title": ""
    }
   },
   "outputs": [],
   "source": [
    "spark.sql(\"select name from deportes where NOC = 'USA' and sex = 'M' and age > 28 and Sport = 'Basketball'\").show()"
   ]
  },
  {
   "cell_type": "markdown",
   "metadata": {
    "application/vnd.databricks.v1+cell": {
     "cellMetadata": {},
     "inputWidgets": {},
     "nuid": "2656130a-15e6-4ae7-8466-8505190ae0cd",
     "showTitle": false,
     "title": ""
    }
   },
   "source": [
    "Encontrar la lista de los jugadores que hay jugado las olimpiadas de invierno después de 1952 y el Athletics Women's High Jump"
   ]
  },
  {
   "cell_type": "code",
   "execution_count": 0,
   "metadata": {
    "application/vnd.databricks.v1+cell": {
     "cellMetadata": {},
     "inputWidgets": {},
     "nuid": "caa898e7-983b-4288-937b-9ad707ef9564",
     "showTitle": false,
     "title": ""
    }
   },
   "outputs": [],
   "source": []
  },
  {
   "cell_type": "markdown",
   "metadata": {
    "application/vnd.databricks.v1+cell": {
     "cellMetadata": {},
     "inputWidgets": {},
     "nuid": "769cc142-d304-469d-986f-db34d0686aaa",
     "showTitle": false,
     "title": ""
    }
   },
   "source": [
    "Encontrar el name, age, team de todos los jugadores de Denmark quienes hay jugado las Summer Olympics en Rio de Janeiro"
   ]
  },
  {
   "cell_type": "code",
   "execution_count": 0,
   "metadata": {
    "application/vnd.databricks.v1+cell": {
     "cellMetadata": {},
     "inputWidgets": {},
     "nuid": "512169e1-e078-4210-9d1d-f800065c5267",
     "showTitle": false,
     "title": ""
    }
   },
   "outputs": [],
   "source": []
  },
  {
   "cell_type": "markdown",
   "metadata": {
    "application/vnd.databricks.v1+cell": {
     "cellMetadata": {},
     "inputWidgets": {},
     "nuid": "9a9f4d28-30f2-4242-b5e6-56231ea17c28",
     "showTitle": false,
     "title": ""
    }
   },
   "source": [
    "Encontrar el name y la age de todos los jugadores quienes han jugado Football como un deporte de los United States, France y Uruguay"
   ]
  },
  {
   "cell_type": "code",
   "execution_count": 0,
   "metadata": {
    "application/vnd.databricks.v1+cell": {
     "cellMetadata": {},
     "inputWidgets": {},
     "nuid": "cdf8fd56-9dce-42d3-abfa-714378310aed",
     "showTitle": false,
     "title": ""
    }
   },
   "outputs": [],
   "source": []
  },
  {
   "cell_type": "markdown",
   "metadata": {
    "application/vnd.databricks.v1+cell": {
     "cellMetadata": {},
     "inputWidgets": {},
     "nuid": "3ae050af-1598-40f6-9c24-6c507a454638",
     "showTitle": false,
     "title": ""
    }
   },
   "source": [
    "Encontrar el name y el NOC de jugadores quienes hay jugado el 2012 Summer y las olimpiadas de invierno 2006 Winter Olympics"
   ]
  },
  {
   "cell_type": "code",
   "execution_count": 0,
   "metadata": {
    "application/vnd.databricks.v1+cell": {
     "cellMetadata": {},
     "inputWidgets": {},
     "nuid": "90591eab-b7f2-4292-9729-b5310b7211c3",
     "showTitle": false,
     "title": ""
    }
   },
   "outputs": [],
   "source": []
  }
 ],
 "metadata": {
  "application/vnd.databricks.v1+notebook": {
   "dashboards": [],
   "language": "python",
   "notebookMetadata": {
    "pythonIndentUnit": 4
   },
   "notebookName": "integracion hive Spark (1)",
   "widgets": {}
  },
  "kernelspec": {
   "display_name": "Python 3",
   "language": "python",
   "name": "python3"
  },
  "language_info": {
   "codemirror_mode": {
    "name": "ipython",
    "version": 3
   },
   "file_extension": ".py",
   "mimetype": "text/x-python",
   "name": "python",
   "nbconvert_exporter": "python",
   "pygments_lexer": "ipython3",
   "version": "3.7.4"
  }
 },
 "nbformat": 4,
 "nbformat_minor": 0
}
